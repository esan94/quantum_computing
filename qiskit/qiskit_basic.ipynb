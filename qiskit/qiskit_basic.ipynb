{
 "cells": [
  {
   "cell_type": "markdown",
   "metadata": {},
   "source": [
    "# **Installing Qiskit**"
   ]
  },
  {
   "cell_type": "markdown",
   "metadata": {
    "jupyter": {
     "outputs_hidden": true
    }
   },
   "source": [
    "To use this library developed by IBM firstly we have to install using pip:\n",
    "\n",
    "\n",
    "```!pip install qiskit```\n",
    "\n",
    "Then import the package as Quantum Physisc Kit"
   ]
  },
  {
   "cell_type": "code",
   "execution_count": 1,
   "metadata": {},
   "outputs": [],
   "source": [
    "import qiskit as qpk\n",
    "\n",
    "%config InlineBackend.figure_format = 'svg'"
   ]
  },
  {
   "cell_type": "markdown",
   "metadata": {},
   "source": [
    "# **Quantum Circuits**"
   ]
  },
  {
   "cell_type": "markdown",
   "metadata": {},
   "source": [
    "In quantum information theory, a quantum circuit is a model for quantum computation in which a computation is a sequence of quantum gates, which are reversible transformations on a quantum mechanical analog of an n-bit register.\n",
    "\n",
    "Let's create an empty one!"
   ]
  },
  {
   "cell_type": "code",
   "execution_count": 6,
   "metadata": {},
   "outputs": [
    {
     "data": {
      "text/html": [
       "<pre style=\"word-wrap: normal;white-space: pre;background: #fff0;line-height: 1.1;font-family: &quot;Courier New&quot;,Courier,monospace\"></pre>"
      ],
      "text/plain": []
     },
     "execution_count": 6,
     "metadata": {},
     "output_type": "execute_result"
    }
   ],
   "source": [
    "cirq = qpk.QuantumCircuit()\n",
    "\n",
    "# The line below is for paint the circuit\n",
    "cirq.draw()"
   ]
  },
  {
   "cell_type": "markdown",
   "metadata": {},
   "source": [
    "A quantum circuit requires qubits and _what is a qubit?_\n",
    "\n",
    "In quantum computing, a qubit or quantum bit (sometimes qbit) is the basic unit of quantum information—the quantum version of the classical binary bit physically realized with a two-state device. A qubit is a two-state (or two-level) quantum-mechanical system, one of the simplest quantum systems displaying the peculiarity of quantum mechanics. \n",
    "\n",
    "Let's create two of them!"
   ]
  },
  {
   "cell_type": "code",
   "execution_count": 7,
   "metadata": {},
   "outputs": [
    {
     "name": "stdout",
     "output_type": "stream",
     "text": [
      "Total number of bits: 2 \n",
      "\n",
      "[QuantumRegister(2, 'q2')]\n"
     ]
    },
    {
     "data": {
      "text/html": [
       "<pre style=\"word-wrap: normal;white-space: pre;background: #fff0;line-height: 1.1;font-family: &quot;Courier New&quot;,Courier,monospace\">         \n",
       "q2_0: |0>\n",
       "         \n",
       "q2_1: |0>\n",
       "         </pre>"
      ],
      "text/plain": [
       "         \n",
       "q2_0: |0>\n",
       "         \n",
       "q2_1: |0>\n",
       "         "
      ]
     },
     "execution_count": 7,
     "metadata": {},
     "output_type": "execute_result"
    }
   ],
   "source": [
    "qbs = qpk.QuantumRegister(2)\n",
    "print(f'Total number of bits: {len(qbs)} \\n')\n",
    "\n",
    "# Once we have create the qbits we need to add to one circuit like above\n",
    "cirq.add_register(qbs)\n",
    "\n",
    "# We always can see the registers that our circuit has\n",
    "print(cirq.qregs)\n",
    "\n",
    "cirq.draw()"
   ]
  },
  {
   "cell_type": "markdown",
   "metadata": {},
   "source": [
    "As we can see on the previous circuit we have create two qubits in its ground state"
   ]
  },
  {
   "cell_type": "markdown",
   "metadata": {},
   "source": [
    "## Adding Gates"
   ]
  },
  {
   "cell_type": "markdown",
   "metadata": {},
   "source": [
    "There are many quantum gates that you can add to a quantum circuit but in this notebook we are going to explore how to add gates, in other notebooks we will study the different gates.\n",
    "\n",
    "Let's add an Hadamark gate to our circuit, to do this we need to specify also the qbit were we want to apply the gate just like we can see below."
   ]
  },
  {
   "cell_type": "code",
   "execution_count": 9,
   "metadata": {},
   "outputs": [],
   "source": [
    "cirq.h(qbs[0]); # the semicolon if to avoid the print message"
   ]
  },
  {
   "cell_type": "markdown",
   "metadata": {},
   "source": [
    "In order to have a more complex circuit lets add a CNOT gate, where the first qbit is the controler and the second one is the destination."
   ]
  },
  {
   "cell_type": "code",
   "execution_count": 11,
   "metadata": {},
   "outputs": [],
   "source": [
    "cirq.cx(qbs[0], qbs[1]);"
   ]
  },
  {
   "cell_type": "code",
   "execution_count": 12,
   "metadata": {},
   "outputs": [
    {
     "data": {
      "text/html": [
       "<pre style=\"word-wrap: normal;white-space: pre;background: #fff0;line-height: 1.1;font-family: &quot;Courier New&quot;,Courier,monospace\">         ┌───┐     \n",
       "q2_0: |0>┤ H ├──■──\n",
       "         └───┘┌─┴─┐\n",
       "q2_1: |0>─────┤ X ├\n",
       "              └───┘</pre>"
      ],
      "text/plain": [
       "         ┌───┐     \n",
       "q2_0: |0>┤ H ├──■──\n",
       "         └───┘┌─┴─┐\n",
       "q2_1: |0>─────┤ X ├\n",
       "              └───┘"
      ]
     },
     "execution_count": 12,
     "metadata": {},
     "output_type": "execute_result"
    }
   ],
   "source": [
    "cirq.draw()"
   ]
  },
  {
   "cell_type": "code",
   "execution_count": null,
   "metadata": {},
   "outputs": [],
   "source": []
  }
 ],
 "metadata": {
  "kernelspec": {
   "display_name": "Python 3",
   "language": "python",
   "name": "python3"
  },
  "language_info": {
   "codemirror_mode": {
    "name": "ipython",
    "version": 3
   },
   "file_extension": ".py",
   "mimetype": "text/x-python",
   "name": "python",
   "nbconvert_exporter": "python",
   "pygments_lexer": "ipython3",
   "version": "3.7.4"
  }
 },
 "nbformat": 4,
 "nbformat_minor": 4
}
