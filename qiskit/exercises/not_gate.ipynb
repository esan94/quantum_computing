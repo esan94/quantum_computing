{
 "cells": [
  {
   "cell_type": "markdown",
   "metadata": {},
   "source": [
    "# **NOT Gate**"
   ]
  },
  {
   "cell_type": "code",
   "execution_count": 1,
   "metadata": {},
   "outputs": [],
   "source": [
    "import qiskit as qpk"
   ]
  },
  {
   "cell_type": "code",
   "execution_count": 2,
   "metadata": {},
   "outputs": [],
   "source": [
    "def NOT(s1, show_qc=False):\n",
    "    \"\"\"NOT logic gate.\n",
    "    \n",
    "    Deploy a NOT gate using the properties of qubits.\n",
    "    The behaviour of this function is to return 1 if \n",
    "    s1 is 0 and 0 if s1 is 1.\n",
    "\n",
    "    Parameters\n",
    "    ----------\n",
    "    s1 : int\n",
    "        State of the first qubit. It must be 0 or 1.\n",
    "    show_qc : bool\n",
    "        If is True show the cirquit.\n",
    "        \n",
    "    Returns\n",
    "    -------\n",
    "    str\n",
    "        Result of the NOT gate. 0 or 1.\n",
    "\n",
    "    \"\"\"\n",
    "    \n",
    "    assert s1 in [0, 1], 's1 must to be 0 or 1'\n",
    "    \n",
    "    # Number of qubits\n",
    "    qbits = qpk.QuantumRegister(1)\n",
    "    \n",
    "    # Where store the output\n",
    "    cregs = qpk.ClassicalRegister(1)\n",
    "    \n",
    "    # Circuit\n",
    "    qc = qpk.QuantumCircuit(qbits, cregs)\n",
    "    \n",
    "    # Init state\n",
    "    if s1 == 1:\n",
    "        qc.x(0)\n",
    "    else:\n",
    "        pass\n",
    "    \n",
    "    # Apply a pi rotation over x-axis\n",
    "    qc.x(0)\n",
    "    \n",
    "    # Measure to the classical register\n",
    "    qc.measure(0, 0)\n",
    "    \n",
    "    if show_qc:\n",
    "        print('Quantum Circuit:\\n')\n",
    "        print(qc.draw())\n",
    "        \n",
    "    # Simulate the circuit\n",
    "    backend = qpk.Aer.get_backend('qasm_simulator')\n",
    "    job = qpk.execute(qc, backend, shots=1, memory=True)\n",
    "    output = job.result().get_memory()[0]\n",
    "    \n",
    "    return output"
   ]
  },
  {
   "cell_type": "code",
   "execution_count": 3,
   "metadata": {},
   "outputs": [
    {
     "name": "stdout",
     "output_type": "stream",
     "text": [
      "\n",
      "Results for the NOT gate\n",
      "\tInput 0 gives output 1\n",
      "\tInput 1 gives output 0\n"
     ]
    }
   ],
   "source": [
    "print('\\nResults for the NOT gate')\n",
    "for input in [0, 1]:\n",
    "    print('\\tInput',input,'gives output',NOT(input))"
   ]
  },
  {
   "cell_type": "code",
   "execution_count": null,
   "metadata": {},
   "outputs": [],
   "source": []
  }
 ],
 "metadata": {
  "kernelspec": {
   "display_name": "Python 3",
   "language": "python",
   "name": "python3"
  },
  "language_info": {
   "codemirror_mode": {
    "name": "ipython",
    "version": 3
   },
   "file_extension": ".py",
   "mimetype": "text/x-python",
   "name": "python",
   "nbconvert_exporter": "python",
   "pygments_lexer": "ipython3",
   "version": "3.7.6"
  }
 },
 "nbformat": 4,
 "nbformat_minor": 4
}
