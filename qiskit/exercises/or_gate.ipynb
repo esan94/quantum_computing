{
 "cells": [
  {
   "cell_type": "markdown",
   "metadata": {},
   "source": [
    "# **OR Gate**"
   ]
  },
  {
   "cell_type": "code",
   "execution_count": 1,
   "metadata": {},
   "outputs": [],
   "source": [
    "import qiskit as qpk"
   ]
  },
  {
   "cell_type": "code",
   "execution_count": 2,
   "metadata": {},
   "outputs": [],
   "source": [
    "def OR(s1, s2, show_qc=False):\n",
    "    \"\"\"OR logic gate.\n",
    "    \n",
    "    Deploy an OR gate using the properties of qubits.\n",
    "    The behaviour of this function is to return 1 if \n",
    "    either input is 1 with other conditions the result \n",
    "    would be a 0.\n",
    "\n",
    "    Parameters\n",
    "    ----------\n",
    "    s1 : int\n",
    "        State of the first qubit. It must be 0 or 1.\n",
    "    s2 : int\n",
    "        State of the second qubit. It must be 0 or 1.\n",
    "    show_qc : bool\n",
    "        If is True show the cirquit.\n",
    "        \n",
    "    Returns\n",
    "    -------\n",
    "    str\n",
    "        Result of the OR gate. 0 or 1.\n",
    "\n",
    "    \"\"\"\n",
    "    \n",
    "    assert s1 in [0, 1] and s2 in [0, 1], 's1 and s2 must to be 0 or 1'\n",
    "    \n",
    "    # Number of qubits\n",
    "    qbits = qpk.QuantumRegister(3)\n",
    "    \n",
    "    # Where store the output\n",
    "    cregs = qpk.ClassicalRegister(1)\n",
    "    \n",
    "    # Circuit\n",
    "    qc = qpk.QuantumCircuit(qbits, cregs)\n",
    "    \n",
    "    # Init state\n",
    "    for idx, qbit in enumerate([s1, s2]):\n",
    "        exec(f\"if {qbit} == 1: qc.x({idx})\")\n",
    "    \n",
    "    qc.cx(0, 2)\n",
    "    qc.cx(1, 2)\n",
    "    qc.ccx(0, 1, 2)\n",
    "    \n",
    "    # Measure the target qubit to the classical register\n",
    "    qc.measure(2, 0)\n",
    "    \n",
    "    if show_qc:\n",
    "        print('Quantum Circuit:\\n')\n",
    "        print(qc.draw())\n",
    "        \n",
    "    # Simulate the circuit\n",
    "    backend = qpk.Aer.get_backend('qasm_simulator')\n",
    "    job = qpk.execute(qc, backend, shots=1, memory=True)\n",
    "    output = job.result().get_memory()[0]\n",
    "    \n",
    "    return output"
   ]
  },
  {
   "cell_type": "code",
   "execution_count": 3,
   "metadata": {},
   "outputs": [
    {
     "name": "stdout",
     "output_type": "stream",
     "text": [
      "\n",
      "Results for the OR gate\n",
      "\tInputs 0 0 give output 0\n",
      "\tInputs 0 1 give output 1\n",
      "\tInputs 1 0 give output 1\n",
      "\tInputs 1 1 give output 1\n"
     ]
    }
   ],
   "source": [
    "print('\\nResults for the OR gate')\n",
    "for input1 in [0, 1]:\n",
    "    for input2 in [0, 1]:\n",
    "        print('\\tInputs', input1, input2, 'give output', OR(input1,input2))\n"
   ]
  },
  {
   "cell_type": "code",
   "execution_count": null,
   "metadata": {},
   "outputs": [],
   "source": []
  }
 ],
 "metadata": {
  "kernelspec": {
   "display_name": "Python 3",
   "language": "python",
   "name": "python3"
  },
  "language_info": {
   "codemirror_mode": {
    "name": "ipython",
    "version": 3
   },
   "file_extension": ".py",
   "mimetype": "text/x-python",
   "name": "python",
   "nbconvert_exporter": "python",
   "pygments_lexer": "ipython3",
   "version": "3.7.6"
  }
 },
 "nbformat": 4,
 "nbformat_minor": 4
}
